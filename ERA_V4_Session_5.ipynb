{
  "nbformat": 4,
  "nbformat_minor": 0,
  "metadata": {
    "colab": {
      "provenance": []
    },
    "kernelspec": {
      "name": "python3",
      "display_name": "Python 3"
    },
    "accelerator": "GPU"
  },
  "cells": [
    {
      "cell_type": "code",
      "metadata": {
        "id": "0m2JWFliFfKT"
      },
      "source": [
        "from __future__ import print_function\n",
        "import torch\n",
        "import torch.nn as nn\n",
        "import torch.nn.functional as F\n",
        "import torch.optim as optim\n",
        "from torchvision import datasets, transforms"
      ],
      "execution_count": 1,
      "outputs": []
    },
    {
      "cell_type": "code",
      "source": [
        "# class Net(nn.Module): # Architecture: S5\n",
        "#     def __init__(self):\n",
        "#         super(Net, self).__init__()\n",
        "#         self.conv1 = nn.Conv2d(1, 2, 3, padding=1)\n",
        "#         self.conv2 = nn.Conv2d(2, 4, 3, padding=1)\n",
        "#         self.pool1 = nn.MaxPool2d(2, 2)\n",
        "#         self.conv3 = nn.Conv2d(4, 8, 3, padding=1)\n",
        "#         self.conv4 = nn.Conv2d(8, 16, 3, padding=1)\n",
        "\n",
        "#         self.pool2 = nn.MaxPool2d(2, 2)\n",
        "#         self.conv5 = nn.Conv2d(16, 32, 3, padding=1)\n",
        "#         self.conv6 = nn.Conv2d(32, 64, 3, padding=1)\n",
        "#         self.conv7 = nn.Conv2d(64, 128, 3, padding=1)\n",
        "\n",
        "#         self.fc1 = nn.Linear(6272, 50)\n",
        "#         self.fc2 = nn.Linear(50, 10)\n",
        "\n",
        "#     def forward(self, x):\n",
        "\n",
        "#         # Start: 1 x 28 x 28\n",
        "\n",
        "#         x = F.relu(self.conv1(x)) #   2 x 28 x 28\n",
        "#         x = F.relu(self.conv2(x)) #   4 x 28 x 28\n",
        "#         x = self.pool1(x)         #   4 x 14 x 14\n",
        "#         x = F.relu(self.conv3(x)) #   8 x 14 x 14\n",
        "#         x = F.relu(self.conv4(x)) #  16 x 14 x 14\n",
        "#         x = self.pool2(x)         #  16 x 7  x 7\n",
        "#         x = F.relu(self.conv5(x)) #  32 x 7  x 7\n",
        "#         x = F.relu(self.conv6(x)) #  64 x 7  x 7\n",
        "#         x = F.relu(self.conv7(x)) # 128 x 7  x 7\n",
        "\n",
        "#         x = x.view(-1, 6272)\n",
        "#         x = self.fc1(x)\n",
        "#         x = F.relu(x)\n",
        "#         x = self.fc2(x)\n",
        "#         x = F.log_softmax(x, dim=1)\n",
        "\n",
        "#         return x\n"
      ],
      "metadata": {
        "id": "cKV9m3QNeQe8"
      },
      "execution_count": 2,
      "outputs": []
    },
    {
      "cell_type": "code",
      "source": [
        "# class Net(nn.Module): # Adding GAP + Batch Norm + Dropout\n",
        "#     def __init__(self):\n",
        "#         super(Net, self).__init__()\n",
        "\n",
        "#         # Convolution blocks with BatchNorm\n",
        "#         self.conv1 = nn.Conv2d(1, 2, 3, padding=1)\n",
        "#         self.bn1   = nn.BatchNorm2d(2)\n",
        "\n",
        "#         self.conv2 = nn.Conv2d(2, 4, 3, padding=1)\n",
        "#         self.bn2   = nn.BatchNorm2d(4)\n",
        "#         self.pool1 = nn.MaxPool2d(2, 2)\n",
        "\n",
        "#         self.conv3 = nn.Conv2d(4, 8, 3, padding=1)\n",
        "#         self.bn3   = nn.BatchNorm2d(8)\n",
        "\n",
        "#         self.conv4 = nn.Conv2d(8, 16, 3, padding=1)\n",
        "#         self.bn4   = nn.BatchNorm2d(16)\n",
        "#         self.pool2 = nn.MaxPool2d(2, 2)\n",
        "\n",
        "#         self.conv5 = nn.Conv2d(16, 32, 3, padding=1)\n",
        "#         self.bn5   = nn.BatchNorm2d(32)\n",
        "\n",
        "#         self.conv6 = nn.Conv2d(32, 64, 3, padding=1)\n",
        "#         self.bn6   = nn.BatchNorm2d(64)\n",
        "\n",
        "#         self.conv7 = nn.Conv2d(64, 128, 3, padding=1)\n",
        "#         self.bn7   = nn.BatchNorm2d(128)\n",
        "\n",
        "#         # Global Average Pooling\n",
        "#         self.gap = nn.AdaptiveAvgPool2d(1)   # -> [batch, 128, 1, 1]\n",
        "\n",
        "#         # Fully connected (much smaller now)\n",
        "#         self.fc = nn.Linear(128, 10)\n",
        "\n",
        "#         self.dropout = nn.Dropout(0.5)\n",
        "\n",
        "#     def forward(self, x):\n",
        "#         # Start: 1 x 28 x 28\n",
        "#         x = F.relu(self.bn1(self.conv1(x)))   # 2x28x28\n",
        "#         x = F.relu(self.bn2(self.conv2(x)))   # 4x28x28\n",
        "#         x = self.pool1(x)                     # 4x14x14\n",
        "\n",
        "#         x = F.relu(self.bn3(self.conv3(x)))   # 8x14x14\n",
        "#         x = F.relu(self.bn4(self.conv4(x)))   # 16x14x14\n",
        "#         x = self.pool2(x)                     # 16x7x7\n",
        "\n",
        "#         x = F.relu(self.bn5(self.conv5(x)))   # 32x7x7\n",
        "#         x = F.relu(self.bn6(self.conv6(x)))   # 64x7x7\n",
        "#         x = F.relu(self.bn7(self.conv7(x)))   # 128x7x7\n",
        "\n",
        "#         # Global Average Pooling\n",
        "#         x = self.gap(x)                       # 128x1x1\n",
        "#         x = x.view(x.size(0), -1)             # flatten -> 128\n",
        "\n",
        "#         x = self.dropout(F.relu(self.fc(x)))  # 128 -> 10\n",
        "#         return F.log_softmax(x, dim=1)\n"
      ],
      "metadata": {
        "id": "uZvVCi16r4PV"
      },
      "execution_count": 3,
      "outputs": []
    },
    {
      "cell_type": "code",
      "source": [
        "# class NetBottleneck(nn.Module): # Adding 1x1 kernels\n",
        "#     def __init__(self):\n",
        "#         super(NetBottleneck, self).__init__()\n",
        "\n",
        "#         # Convolution blocks with BatchNorm\n",
        "#         self.conv1 = nn.Conv2d(1, 2, 3, padding=1)\n",
        "#         self.bn1   = nn.BatchNorm2d(2)\n",
        "\n",
        "#         self.conv2 = nn.Conv2d(2, 4, 3, padding=1)\n",
        "#         self.bn2   = nn.BatchNorm2d(4)\n",
        "#         self.pool1 = nn.MaxPool2d(2, 2)\n",
        "\n",
        "#         self.conv3 = nn.Conv2d(4, 8, 3, padding=1)\n",
        "#         self.bn3   = nn.BatchNorm2d(8)\n",
        "\n",
        "#         self.conv4 = nn.Conv2d(8, 16, 3, padding=1)\n",
        "#         self.bn4   = nn.BatchNorm2d(16)\n",
        "#         self.pool2 = nn.MaxPool2d(2, 2)\n",
        "\n",
        "#         self.conv5 = nn.Conv2d(16, 32, 3, padding=1)\n",
        "#         self.bn5   = nn.BatchNorm2d(32)\n",
        "\n",
        "#         self.conv6 = nn.Conv2d(32, 64, 3, padding=1)\n",
        "#         self.bn6   = nn.BatchNorm2d(64)\n",
        "\n",
        "#         # 1x1 conv bottleneck to reduce channels: 64 -> 32\n",
        "#         self.conv7_1x1 = nn.Conv2d(64, 32, 1)\n",
        "#         self.bn7_1x1   = nn.BatchNorm2d(32)\n",
        "\n",
        "#         # final 3x3 conv after bottleneck: 32 -> 64\n",
        "#         self.conv7 = nn.Conv2d(32, 64, 3, padding=1)\n",
        "#         self.bn7   = nn.BatchNorm2d(64)\n",
        "\n",
        "#         # Global Average Pooling\n",
        "#         self.gap = nn.AdaptiveAvgPool2d(1)   # -> [batch, 64, 1, 1]\n",
        "\n",
        "#         # Fully connected\n",
        "#         self.fc = nn.Linear(64, 10)\n",
        "#         self.dropout = nn.Dropout(0.5)\n",
        "\n",
        "#     def forward(self, x):\n",
        "#         # Input: [batch, 1, 28, 28]\n",
        "#         x = F.relu(self.bn1(self.conv1(x)))   # [batch, 2, 28, 28]\n",
        "#         x = F.relu(self.bn2(self.conv2(x)))   # [batch, 4, 28, 28]\n",
        "#         x = self.pool1(x)                     # [batch, 4, 14, 14]\n",
        "\n",
        "#         x = F.relu(self.bn3(self.conv3(x)))   # [batch, 8, 14, 14]\n",
        "#         x = F.relu(self.bn4(self.conv4(x)))   # [batch, 16, 14, 14]\n",
        "#         x = self.pool2(x)                     # [batch, 16, 7, 7]\n",
        "\n",
        "#         x = F.relu(self.bn5(self.conv5(x)))   # [batch, 32, 7, 7]\n",
        "#         x = F.relu(self.bn6(self.conv6(x)))   # [batch, 64, 7, 7]\n",
        "\n",
        "#         # 1x1 bottleneck\n",
        "#         x = F.relu(self.bn7_1x1(self.conv7_1x1(x)))  # [batch, 32, 7, 7]\n",
        "\n",
        "#         # final conv\n",
        "#         x = F.relu(self.bn7(self.conv7(x)))          # [batch, 64, 7, 7]\n",
        "\n",
        "#         # Global Average Pooling\n",
        "#         x = self.gap(x)                              # [batch, 64, 1, 1]\n",
        "#         x = x.view(x.size(0), -1)                    # flatten -> [batch, 64]\n",
        "\n",
        "#         x = self.dropout(F.relu(self.fc(x)))         # [batch, 10]\n",
        "#         return F.log_softmax(x, dim=1)\n"
      ],
      "metadata": {
        "id": "rGqXMhnIwAts"
      },
      "execution_count": 4,
      "outputs": []
    },
    {
      "cell_type": "code",
      "source": [
        "# class NetBottleneck(nn.Module): # Experiment 1: Try with small layers\n",
        "#     def __init__(self):\n",
        "#         super(NetBottleneck, self).__init__()\n",
        "\n",
        "#         # Convolution blocks with BatchNorm\n",
        "#         self.conv1 = nn.Conv2d(1, 2, 3, padding=1)\n",
        "#         self.bn1   = nn.BatchNorm2d(2)\n",
        "\n",
        "#         self.conv2 = nn.Conv2d(2, 4, 3, padding=1)\n",
        "#         self.bn2   = nn.BatchNorm2d(4)\n",
        "#         self.pool1 = nn.MaxPool2d(2, 2)\n",
        "\n",
        "#         self.conv3 = nn.Conv2d(4, 8, 3, padding=1)\n",
        "#         self.bn3   = nn.BatchNorm2d(8)\n",
        "\n",
        "#         self.conv4 = nn.Conv2d(8, 16, 3, padding=1)\n",
        "#         self.bn4   = nn.BatchNorm2d(16)\n",
        "#         self.pool2 = nn.MaxPool2d(2, 2)\n",
        "\n",
        "#         self.conv5 = nn.Conv2d(16, 32, 3, padding=1)\n",
        "#         self.bn5   = nn.BatchNorm2d(32)\n",
        "\n",
        "#         # self.conv6 = nn.Conv2d(32, 64, 3, padding=1)\n",
        "#         # self.bn6   = nn.BatchNorm2d(64)\n",
        "\n",
        "#         # 1x1 conv bottleneck to reduce channels: 64 -> 32\n",
        "#         self.conv7_1x1 = nn.Conv2d(32, 16, 1)\n",
        "#         self.bn7_1x1   = nn.BatchNorm2d(16)\n",
        "\n",
        "#         # final 3x3 conv after bottleneck: 32 -> 64\n",
        "#         self.conv7 = nn.Conv2d(16, 32, 3, padding=1)\n",
        "#         self.bn7   = nn.BatchNorm2d(32)\n",
        "\n",
        "#         # Global Average Pooling\n",
        "#         self.gap = nn.AdaptiveAvgPool2d(1)   # -> [batch, 64, 1, 1]\n",
        "\n",
        "#         # Fully connected\n",
        "#         self.fc = nn.Linear(32, 10)\n",
        "#         self.dropout = nn.Dropout(0.5)\n",
        "\n",
        "#     def forward(self, x):\n",
        "#         # Input: [batch, 1, 28, 28]\n",
        "#         x = F.relu(self.bn1(self.conv1(x)))   # [batch, 2, 28, 28]\n",
        "#         x = F.relu(self.bn2(self.conv2(x)))   # [batch, 4, 28, 28]\n",
        "#         x = self.pool1(x)                     # [batch, 4, 14, 14]\n",
        "\n",
        "#         x = F.relu(self.bn3(self.conv3(x)))   # [batch, 8, 14, 14]\n",
        "#         x = F.relu(self.bn4(self.conv4(x)))   # [batch, 16, 14, 14]\n",
        "#         x = self.pool2(x)                     # [batch, 16, 7, 7]\n",
        "\n",
        "#         x = F.relu(self.bn5(self.conv5(x)))   # [batch, 32, 7, 7]\n",
        "#         # x = F.relu(self.bn6(self.conv6(x)))   # [batch, 64, 7, 7]\n",
        "\n",
        "#         # 1x1 bottleneck\n",
        "#         x = F.relu(self.bn7_1x1(self.conv7_1x1(x)))  # [batch, 16, 7, 7]\n",
        "\n",
        "#         # final conv\n",
        "#         x = F.relu(self.bn7(self.conv7(x)))          # [batch, 32, 7, 7]\n",
        "\n",
        "#         # Global Average Pooling\n",
        "#         x = self.gap(x)                              # [batch, 32, 1, 1]\n",
        "#         x = x.view(x.size(0), -1)                    # flatten -> [batch, 64]\n",
        "\n",
        "#         x = self.dropout(F.relu(self.fc(x)))         # [batch, 10]\n",
        "#         return F.log_softmax(x, dim=1)\n"
      ],
      "metadata": {
        "id": "ZY8tN2Vj0MuD"
      },
      "execution_count": 5,
      "outputs": []
    },
    {
      "cell_type": "code",
      "source": [
        "# import torch\n",
        "# import torch.nn as nn\n",
        "# import torch.nn.functional as F\n",
        "\n",
        "# class NetFixedSize(nn.Module): # For 4 onwards\n",
        "#     def __init__(self):\n",
        "#         super(NetFixedSize, self).__init__()\n",
        "\n",
        "#         # Conv layers as per your table\n",
        "#         self.conv1 = nn.Conv2d(1, 4, 3, padding=1)     # 28x28 -> 28x28\n",
        "#         self.conv2 = nn.Conv2d(4, 8, 3, padding=1)     # 28x28\n",
        "#         self.conv3 = nn.Conv2d(8, 4, 1)                # 28x28 bottleneck\n",
        "#         self.conv4 = nn.Conv2d(4, 8, 3, padding=1)     # 28x28\n",
        "#         self.conv5 = nn.Conv2d(8, 16, 3, padding=1)    # 28x28\n",
        "#         self.conv6 = nn.Conv2d(16, 8, 1)               # 28x28 bottleneck\n",
        "#         self.conv7 = nn.Conv2d(8, 16, 3, padding=1)    # 28x28\n",
        "#         self.conv8 = nn.Conv2d(16, 32, 3, padding=1)   # 28x28\n",
        "#         self.conv9 = nn.Conv2d(32, 16, 1)              # 28x28 bottleneck\n",
        "#         self.conv10 = nn.Conv2d(16, 32, 3, padding=1)  # 28x28\n",
        "\n",
        "#         # BatchNorm layers\n",
        "#         self.bn1 = nn.BatchNorm2d(4)\n",
        "#         self.bn2 = nn.BatchNorm2d(8)\n",
        "#         self.bn3 = nn.BatchNorm2d(4)\n",
        "#         self.bn4 = nn.BatchNorm2d(8)\n",
        "#         self.bn5 = nn.BatchNorm2d(16)\n",
        "#         self.bn6 = nn.BatchNorm2d(8)\n",
        "#         self.bn7 = nn.BatchNorm2d(16)\n",
        "#         self.bn8 = nn.BatchNorm2d(32)\n",
        "#         self.bn9 = nn.BatchNorm2d(16)\n",
        "#         self.bn10 = nn.BatchNorm2d(32)\n",
        "\n",
        "#         # Fully connected\n",
        "#         self.fc = nn.Linear(32, 10)  # flatten all spatial features\n",
        "#         self.dropout = nn.Dropout(0.5)\n",
        "\n",
        "#         # Pooling\n",
        "#         self.pool = nn.MaxPool2d(2, 2)\n",
        "\n",
        "#         # Global Average Pooling\n",
        "#         self.gap = nn.AdaptiveAvgPool2d(1)   # -> [batch, 64, 1, 1]\n",
        "\n",
        "#     def forward(self, x):\n",
        "#         x = F.relu(self.bn1(self.conv1(x)))\n",
        "#         x = self.pool(x)\n",
        "#         x = F.relu(self.bn2(self.conv2(x)))\n",
        "#         x = self.pool(x)\n",
        "#         x = F.relu(self.bn3(self.conv3(x)))  # bottleneck\n",
        "#         x = self.pool(x)\n",
        "#         x = F.relu(self.bn4(self.conv4(x)))\n",
        "\n",
        "#         x = F.relu(self.bn5(self.conv5(x)))\n",
        "\n",
        "#         x = F.relu(self.bn6(self.conv6(x)))  # bottleneck\n",
        "#         x = F.relu(self.bn7(self.conv7(x)))\n",
        "\n",
        "#         x = F.relu(self.bn8(self.conv8(x)))\n",
        "#         x = F.relu(self.bn9(self.conv9(x)))  # bottleneck\n",
        "#         x = F.relu(self.bn10(self.conv10(x)))\n",
        "\n",
        "\n",
        "# # Global Average Pooling\n",
        "#         x = self.gap(x)                              # [batch, 32, 1, 1]\n",
        "#         x = x.view(x.size(0), -1)                    # flatten -> [batch, 64]\n",
        "\n",
        "\n",
        "#         x = self.dropout(F.relu(self.fc(x)))\n",
        "#         return F.log_softmax(x, dim=1)\n"
      ],
      "metadata": {
        "id": "ngItsnVS04q9"
      },
      "execution_count": 6,
      "outputs": []
    },
    {
      "cell_type": "code",
      "source": [
        "# import torch\n",
        "# import torch.nn as nn\n",
        "# import torch.nn.functional as F\n",
        "\n",
        "# class NetFixedSize(nn.Module):\n",
        "#     def __init__(self):\n",
        "#         super(NetFixedSize, self).__init__()\n",
        "\n",
        "#         # Convolution layers\n",
        "#         self.conv1 = nn.Conv2d(1, 8, 3, padding=1)    # 28x28\n",
        "#         self.bn1 = nn.BatchNorm2d(8)\n",
        "\n",
        "#         self.conv2 = nn.Conv2d(8, 16, 3, padding=1)   # 28x28\n",
        "#         self.bn2 = nn.BatchNorm2d(16)\n",
        "\n",
        "#         self.conv3 = nn.Conv2d(16, 8, 1)             # bottleneck 28x28\n",
        "#         self.bn3 = nn.BatchNorm2d(8)\n",
        "\n",
        "#         self.conv4 = nn.Conv2d(8, 16, 3, padding=1)  # 28x28\n",
        "#         self.bn4 = nn.BatchNorm2d(16)\n",
        "\n",
        "#         self.conv5 = nn.Conv2d(16, 32, 3, padding=1) # 28x28\n",
        "#         self.bn5 = nn.BatchNorm2d(32)\n",
        "\n",
        "#         self.conv6 = nn.Conv2d(32, 16, 1)            # bottleneck 28x28\n",
        "#         self.bn6 = nn.BatchNorm2d(16)\n",
        "\n",
        "#         self.conv7 = nn.Conv2d(16, 32, 3, padding=1) # 28x28\n",
        "#         self.bn7 = nn.BatchNorm2d(32)\n",
        "\n",
        "#         # Pooling\n",
        "#         self.pool = nn.MaxPool2d(2, 2)\n",
        "\n",
        "#         # Global Average Pooling\n",
        "#         self.gap = nn.AdaptiveAvgPool2d(1)   # -> [batch, 32, 1, 1]\n",
        "\n",
        "#         # Fully connected\n",
        "#         self.fc = nn.Linear(32, 10)\n",
        "#         self.dropout = nn.Dropout(0.5)\n",
        "\n",
        "#     def forward(self, x):\n",
        "#         x = F.relu(self.bn1(self.conv1(x)))\n",
        "#         x = self.pool(x)   # 28 -> 14\n",
        "\n",
        "#         x = F.relu(self.bn2(self.conv2(x)))\n",
        "#         x = self.pool(x)   # 14 -> 7\n",
        "\n",
        "#         x = F.relu(self.bn3(self.conv3(x)))  # bottleneck\n",
        "\n",
        "#         x = F.relu(self.bn4(self.conv4(x)))\n",
        "#         x = self.pool(x)   # 7 -> 3\n",
        "\n",
        "#         x = F.relu(self.bn5(self.conv5(x)))\n",
        "#         x = F.relu(self.bn6(self.conv6(x)))  # bottleneck\n",
        "#         x = F.relu(self.bn7(self.conv7(x)))\n",
        "\n",
        "#         # Global Average Pooling\n",
        "#         x = self.gap(x)               # [batch, 32, 1, 1]\n",
        "#         x = x.view(x.size(0), -1)     # flatten -> [batch, 32]\n",
        "\n",
        "#         x = self.dropout(F.relu(self.fc(x)))\n",
        "#         return F.log_softmax(x, dim=1)\n"
      ],
      "metadata": {
        "id": "QxsldjROKqBK"
      },
      "execution_count": 7,
      "outputs": []
    },
    {
      "cell_type": "code",
      "source": [
        "# import torch\n",
        "# import torch.nn as nn\n",
        "# import torch.nn.functional as F\n",
        "\n",
        "# class NetArch(nn.Module):\n",
        "#     def __init__(self):\n",
        "#         super(NetArch, self).__init__()\n",
        "\n",
        "#         # Convolution layers\n",
        "#         self.conv1 = nn.Conv2d(1, 8, 3, padding=1)      # 28x28 -> 28x28\n",
        "#         self.bn1 = nn.BatchNorm2d(8)\n",
        "\n",
        "#         self.conv2 = nn.Conv2d(8, 16, 3, padding=1)     # 14x14 -> 14x14\n",
        "#         self.bn2 = nn.BatchNorm2d(16)\n",
        "\n",
        "#         self.conv3 = nn.Conv2d(16, 32, 3, padding=1)    # 7x7 -> 7x7\n",
        "#         self.bn3 = nn.BatchNorm2d(32)\n",
        "\n",
        "#         self.bottleneck1 = nn.Conv2d(32, 16, 1)         # 3x3 -> 3x3\n",
        "#         self.bn4 = nn.BatchNorm2d(16)\n",
        "\n",
        "#         self.conv4 = nn.Conv2d(16, 32, 3, padding=1)    # 3x3 -> 3x3\n",
        "#         self.bn5 = nn.BatchNorm2d(32)\n",
        "\n",
        "#         self.bottleneck2 = nn.Conv2d(32, 16, 1)         # 3x3 -> 3x3\n",
        "#         self.bn6 = nn.BatchNorm2d(16)\n",
        "\n",
        "#         self.conv5 = nn.Conv2d(16, 32, 3, padding=1)    # 3x3 -> 3x3\n",
        "#         self.bn7 = nn.BatchNorm2d(32)\n",
        "\n",
        "#         # Pooling layers\n",
        "#         self.pool = nn.MaxPool2d(2, 2)\n",
        "\n",
        "#         # Global Average Pooling\n",
        "#         self.gap = nn.AdaptiveAvgPool2d(1)  # Output: [batch, 32, 1, 1]\n",
        "\n",
        "#         # Fully connected\n",
        "#         self.fc = nn.Linear(32, 10)\n",
        "#         self.dropout = nn.Dropout(0.5)\n",
        "\n",
        "#     def forward(self, x):\n",
        "#         # Layer 1 + Pool\n",
        "#         x = F.relu(self.bn1(self.conv1(x)))\n",
        "#         x = self.pool(x)  # 28 -> 14\n",
        "\n",
        "#         # Layer 2 + Pool\n",
        "#         x = F.relu(self.bn2(self.conv2(x)))\n",
        "#         x = self.pool(x)  # 14 -> 7\n",
        "\n",
        "#         # Layer 3 + Pool\n",
        "#         x = F.relu(self.bn3(self.conv3(x)))\n",
        "#         x = self.pool(x)  # 7 -> 3\n",
        "\n",
        "#         # Bottleneck 1\n",
        "#         x = F.relu(self.bn4(self.bottleneck1(x)))\n",
        "\n",
        "#         # Conv4\n",
        "#         x = F.relu(self.bn5(self.conv4(x)))\n",
        "\n",
        "#         # Bottleneck 2\n",
        "#         x = F.relu(self.bn6(self.bottleneck2(x)))\n",
        "\n",
        "#         # Conv5\n",
        "#         x = F.relu(self.bn7(self.conv5(x)))\n",
        "\n",
        "#         # Global Average Pooling\n",
        "#         x = self.gap(x)                 # [batch, 32, 1, 1]\n",
        "#         x = x.view(x.size(0), -1)       # flatten -> [batch, 32]\n",
        "\n",
        "#         # Fully connected\n",
        "#         x = self.dropout(F.relu(self.fc(x)))\n",
        "#         return F.log_softmax(x, dim=1)\n"
      ],
      "metadata": {
        "id": "SHpHaA95PEtB"
      },
      "execution_count": 8,
      "outputs": []
    },
    {
      "cell_type": "code",
      "source": [
        "import torch\n",
        "import torch.nn as nn\n",
        "import torch.nn.functional as F\n",
        "\n",
        "class NetCustomArch(nn.Module): # OLD MODEL\n",
        "    def __init__(self):\n",
        "        super(NetCustomArch, self).__init__()\n",
        "\n",
        "        # Conv layers\n",
        "        self.conv1 = nn.Conv2d(1, 16, 3, padding=1)    # 28x28 -> 28x28\n",
        "        self.bn1 = nn.BatchNorm2d(16)\n",
        "\n",
        "        self.conv2 = nn.Conv2d(16, 16, 3, padding=1)             # 28x28 -> 28x28 (will pool after)\n",
        "        self.bn2 = nn.BatchNorm2d(16)\n",
        "\n",
        "        self.conv3 = nn.Conv2d(16, 32, 3, padding=1)   # 7x7 -> 7x7\n",
        "        self.bn3 = nn.BatchNorm2d(32)\n",
        "\n",
        "        self.conv4 = nn.Conv2d(32, 32, 3, padding=1)   # 3x3 -> 3x3\n",
        "        self.bn4 = nn.BatchNorm2d(32)\n",
        "\n",
        "        self.conv5 = nn.Conv2d(32, 16, 1)             # 3x3 -> 3x3 bottleneck\n",
        "        self.bn5 = nn.BatchNorm2d(16)\n",
        "\n",
        "        self.conv6 = nn.Conv2d(16, 16, 3)   # 3x3 -> 3x3\n",
        "        self.bn6 = nn.BatchNorm2d(16)\n",
        "\n",
        "        # Pooling\n",
        "        self.pool = nn.MaxPool2d(2, 2)\n",
        "\n",
        "        # Global Average Pooling\n",
        "        self.gap = nn.AdaptiveAvgPool2d(1)  # final output: [batch, 16, 1, 1]\n",
        "\n",
        "        # Fully connected\n",
        "        self.fc = nn.Linear(16, 10)\n",
        "        self.dropout = nn.Dropout(0.5)\n",
        "\n",
        "    def forward(self, x):\n",
        "        # Conv1\n",
        "        x = F.relu(self.bn1(self.conv1(x)))\n",
        "        x = self.pool(x)   # 7x7 -> 3x3\n",
        "\n",
        "        # Conv2 + Pool\n",
        "        x = F.relu(self.bn2(self.conv2(x)))\n",
        "        x = self.pool(x)   # 28x28 -> 14x14\n",
        "\n",
        "        # Conv3\n",
        "        x = F.relu(self.bn3(self.conv3(x)))\n",
        "        x = self.pool(x)   # 7x7 -> 3x3\n",
        "\n",
        "        # Conv4 + Pool\n",
        "        x = F.relu(self.bn4(self.conv4(x)))\n",
        "        # x = self.pool(x)   # 7x7 -> 3x3\n",
        "\n",
        "        # Conv5\n",
        "        x = F.relu(self.bn5(self.conv5(x)))\n",
        "\n",
        "        # Conv6\n",
        "        x = F.relu(self.bn6(self.conv6(x)))\n",
        "\n",
        "        # Global Average Pooling\n",
        "        x = self.gap(x)               # [batch, 16, 1, 1]\n",
        "        x = x.view(x.size(0), -1)     # flatten -> [batch, 16]\n",
        "\n",
        "        # Fully connected\n",
        "        # x = self.dropout(F.relu(self.fc(x)))\n",
        "        # return F.log_softmax(x, dim=1)\n",
        "\n",
        "        # Fully connected\n",
        "        x = self.dropout(x)\n",
        "        # x = F.relu(self.fc(x))\n",
        "        x = self.fc(x)\n",
        "\n",
        "        return F.log_softmax(x, dim=1)\n"
      ],
      "metadata": {
        "id": "sOSl1pqURZO3"
      },
      "execution_count": 9,
      "outputs": []
    },
    {
      "cell_type": "code",
      "source": [
        "# import torch\n",
        "# import torch.nn as nn\n",
        "# import torch.nn.functional as F\n",
        "\n",
        "# class NetCustomArch(nn.Module): # OLD 8 MODEL\n",
        "#     def __init__(self):\n",
        "#         super(NetCustomArch, self).__init__()\n",
        "\n",
        "#         # Conv layers\n",
        "#         self.conv1 = nn.Conv2d(1, 8, 3, padding=1)    # 28x28 -> 28x28\n",
        "#         self.bn1 = nn.BatchNorm2d(8)\n",
        "\n",
        "#         self.conv2 = nn.Conv2d(8, 16, 3,  padding=1)             # 28x28 -> 28x28 (will pool after)\n",
        "#         self.bn2 = nn.BatchNorm2d(16)\n",
        "\n",
        "#         self.conv3 = nn.Conv2d(16, 16, 3, padding=1)   # 7x7 -> 7x7\n",
        "#         self.bn3 = nn.BatchNorm2d(16)\n",
        "\n",
        "#         self.conv4 = nn.Conv2d(16, 32, 3, padding=1)   # 3x3 -> 3x3\n",
        "#         self.bn4 = nn.BatchNorm2d(32)\n",
        "\n",
        "#         self.conv5 = nn.Conv2d(32, 32, 3,  padding=1)             # 3x3 -> 3x3 bottleneck\n",
        "#         self.bn5 = nn.BatchNorm2d(32)\n",
        "\n",
        "#         self.conv6 = nn.Conv2d(32, 16, 1)   # 3x3 -> 3x3\n",
        "#         self.bn6 = nn.BatchNorm2d(16)\n",
        "\n",
        "#         # Pooling\n",
        "#         self.pool = nn.MaxPool2d(2, 2)\n",
        "\n",
        "#         # Global Average Pooling\n",
        "#         self.gap = nn.AdaptiveAvgPool2d(1)  # final output: [batch, 16, 1, 1]\n",
        "\n",
        "#         # Fully connected\n",
        "#         self.fc = nn.Linear(16, 10)\n",
        "#         self.dropout = nn.Dropout(0.5)\n",
        "\n",
        "#     def forward(self, x):\n",
        "#         # Conv1\n",
        "#         x = F.relu(self.bn1(self.conv1(x)))\n",
        "#         x = self.pool(x)   # 7x7 -> 3x3\n",
        "\n",
        "#         # Conv2 + Pool\n",
        "#         x = F.relu(self.bn2(self.conv2(x)))\n",
        "#         x = self.pool(x)   # 28x28 -> 14x14\n",
        "\n",
        "#         # Conv3\n",
        "#         x = F.relu(self.bn3(self.conv3(x)))\n",
        "#         x = self.pool(x)   # 7x7 -> 3x3\n",
        "\n",
        "#         # Conv4 + Pool\n",
        "#         x = F.relu(self.bn4(self.conv4(x)))\n",
        "\n",
        "\n",
        "#         # Conv5\n",
        "#         x = F.relu(self.bn5(self.conv5(x)))\n",
        "#         x = self.pool(x)   # 7x7 -> 3x3\n",
        "\n",
        "#         # Conv6\n",
        "#         x = F.relu(self.bn6(self.conv6(x)))\n",
        "\n",
        "#         # Global Average Pooling\n",
        "#         x = self.gap(x)               # [batch, 16, 1, 1]\n",
        "#         x = x.view(x.size(0), -1)     # flatten -> [batch, 16]\n",
        "\n",
        "#         # Fully connected\n",
        "#         x = self.dropout(F.relu(self.fc(x)))\n",
        "#         return F.log_softmax(x, dim=1)\n"
      ],
      "metadata": {
        "id": "f8r58ACfXhoe"
      },
      "execution_count": 10,
      "outputs": []
    },
    {
      "cell_type": "code",
      "source": [
        "# import torch\n",
        "# import torch.nn as nn\n",
        "# import torch.nn.functional as F\n",
        "\n",
        "# class NetCustomArch(nn.Module): # NEW MODEL\n",
        "#     def __init__(self):\n",
        "#         super(NetCustomArch, self).__init__()\n",
        "\n",
        "#         # Conv layers\n",
        "#         self.conv1 = nn.Conv2d(1, 16, 3, padding=1)    # 28x28 -> 28x28\n",
        "#         self.bn1 = nn.BatchNorm2d(16)\n",
        "\n",
        "#         self.conv2 = nn.Conv2d(16, 32, 3, padding=1)             # 28x28 -> 28x28 (will pool after)\n",
        "#         self.bn2 = nn.BatchNorm2d(32)\n",
        "\n",
        "#         self.conv3 = nn.Conv2d(32, 32, 3, padding=1)   # 7x7 -> 7x7\n",
        "#         self.bn3 = nn.BatchNorm2d(32)\n",
        "\n",
        "#         self.conv4 = nn.Conv2d(32, 16, 1)   # 3x3 -> 3x3\n",
        "#         self.bn4 = nn.BatchNorm2d(16)\n",
        "\n",
        "#         self.conv5 = nn.Conv2d(16, 16, 3, padding=1)             # 3x3 -> 3x3 bottleneck\n",
        "#         self.bn5 = nn.BatchNorm2d(16)\n",
        "\n",
        "#         self.conv6 = nn.Conv2d(16, 16, 3)   # 3x3 -> 3x3\n",
        "#         self.bn6 = nn.BatchNorm2d(16)\n",
        "\n",
        "#         # Pooling\n",
        "#         self.pool = nn.MaxPool2d(2, 2)\n",
        "\n",
        "#         # Global Average Pooling\n",
        "#         self.gap = nn.AdaptiveAvgPool2d(1)  # final output: [batch, 16, 1, 1]\n",
        "\n",
        "#         # Fully connected\n",
        "#         self.fc = nn.Linear(16, 10)\n",
        "#         self.dropout = nn.Dropout(0.5)\n",
        "\n",
        "#     def forward(self, x):\n",
        "#         # Conv1\n",
        "#         x = F.relu(self.bn1(self.conv1(x)))\n",
        "#         x = self.pool(x)   # 7x7 -> 3x3\n",
        "\n",
        "#         # Conv2 + Pool\n",
        "#         x = F.relu(self.bn2(self.conv2(x)))\n",
        "#         x = self.pool(x)   # 28x28 -> 14x14\n",
        "\n",
        "#         # Conv3\n",
        "#         x = F.relu(self.bn3(self.conv3(x)))\n",
        "#         x = self.pool(x)   # 7x7 -> 3x3\n",
        "\n",
        "#         # Conv4 + Pool\n",
        "#         x = F.relu(self.bn4(self.conv4(x)))\n",
        "#         # x = self.pool(x)   # 7x7 -> 3x3\n",
        "\n",
        "#         # Conv5\n",
        "#         x = F.relu(self.bn5(self.conv5(x)))\n",
        "\n",
        "#         # Conv6\n",
        "#         x = F.relu(self.bn6(self.conv6(x)))\n",
        "\n",
        "#         # Global Average Pooling\n",
        "#         x = self.gap(x)               # [batch, 16, 1, 1]\n",
        "#         x = x.view(x.size(0), -1)     # flatten -> [batch, 16]\n",
        "\n",
        "#         # Fully connected\n",
        "#         x = self.dropout(x)\n",
        "#         x = F.relu(self.fc(x))\n",
        "#         return F.log_softmax(x, dim=1)\n",
        "\n"
      ],
      "metadata": {
        "id": "ontHW1aioAeM"
      },
      "execution_count": 11,
      "outputs": []
    },
    {
      "cell_type": "code",
      "metadata": {
        "id": "xdydjYTZFyi3",
        "colab": {
          "base_uri": "https://localhost:8080/"
        },
        "outputId": "0c388e44-e81b-42e9-b268-7333613a7e92"
      },
      "source": [
        "# !pip install torchsummary\n",
        "from torchsummary import summary\n",
        "use_cuda = torch.cuda.is_available()\n",
        "device = torch.device(\"cuda\" if use_cuda else \"cpu\")\n",
        "model = NetCustomArch().to(device)\n",
        "\n",
        "summary(model, input_size=(1, 28, 28))"
      ],
      "execution_count": 12,
      "outputs": [
        {
          "output_type": "stream",
          "name": "stdout",
          "text": [
            "----------------------------------------------------------------\n",
            "        Layer (type)               Output Shape         Param #\n",
            "================================================================\n",
            "            Conv2d-1           [-1, 16, 28, 28]             160\n",
            "       BatchNorm2d-2           [-1, 16, 28, 28]              32\n",
            "         MaxPool2d-3           [-1, 16, 14, 14]               0\n",
            "            Conv2d-4           [-1, 16, 14, 14]           2,320\n",
            "       BatchNorm2d-5           [-1, 16, 14, 14]              32\n",
            "         MaxPool2d-6             [-1, 16, 7, 7]               0\n",
            "            Conv2d-7             [-1, 32, 7, 7]           4,640\n",
            "       BatchNorm2d-8             [-1, 32, 7, 7]              64\n",
            "         MaxPool2d-9             [-1, 32, 3, 3]               0\n",
            "           Conv2d-10             [-1, 32, 3, 3]           9,248\n",
            "      BatchNorm2d-11             [-1, 32, 3, 3]              64\n",
            "           Conv2d-12             [-1, 16, 3, 3]             528\n",
            "      BatchNorm2d-13             [-1, 16, 3, 3]              32\n",
            "           Conv2d-14             [-1, 16, 1, 1]           2,320\n",
            "      BatchNorm2d-15             [-1, 16, 1, 1]              32\n",
            "AdaptiveAvgPool2d-16             [-1, 16, 1, 1]               0\n",
            "          Dropout-17                   [-1, 16]               0\n",
            "           Linear-18                   [-1, 10]             170\n",
            "================================================================\n",
            "Total params: 19,642\n",
            "Trainable params: 19,642\n",
            "Non-trainable params: 0\n",
            "----------------------------------------------------------------\n",
            "Input size (MB): 0.00\n",
            "Forward/backward pass size (MB): 0.30\n",
            "Params size (MB): 0.07\n",
            "Estimated Total Size (MB): 0.38\n",
            "----------------------------------------------------------------\n"
          ]
        }
      ]
    },
    {
      "cell_type": "code",
      "metadata": {
        "id": "DqTWLaM5GHgH"
      },
      "source": [
        "\n",
        "\n",
        "torch.manual_seed(1)\n",
        "batch_size = 64\n",
        "\n",
        "kwargs = {'num_workers': 1, 'pin_memory': True} if use_cuda else {}\n",
        "train_loader = torch.utils.data.DataLoader(\n",
        "    datasets.MNIST('../data', train=True, download=True,\n",
        "                    transform=transforms.Compose([\n",
        "                        transforms.ToTensor(),\n",
        "                        transforms.Normalize((0.1307,), (0.3081,))\n",
        "                    ])),\n",
        "    batch_size=batch_size, shuffle=True, **kwargs)\n",
        "test_loader = torch.utils.data.DataLoader(\n",
        "    datasets.MNIST('../data', train=False, transform=transforms.Compose([\n",
        "                        transforms.ToTensor(),\n",
        "                        transforms.Normalize((0.1307,), (0.3081,))\n",
        "                    ])),\n",
        "    batch_size=batch_size, shuffle=True, **kwargs)\n"
      ],
      "execution_count": 13,
      "outputs": []
    },
    {
      "cell_type": "code",
      "source": [
        "\n",
        "from tqdm import tqdm\n",
        "\n",
        "# Data to plot accuracy and loss graphs\n",
        "train_losses = []\n",
        "test_losses = []\n",
        "train_acc = []\n",
        "test_acc = []\n",
        "\n",
        "test_incorrect_pred = {'images': [], 'ground_truths': [], 'predicted_vals': []}\n",
        "\n",
        "def GetCorrectPredCount(pPrediction, pLabels):\n",
        "  return pPrediction.argmax(dim=1).eq(pLabels).sum().item()\n",
        "\n",
        "def train(model, device, train_loader, optimizer, criterion):\n",
        "  model.train()\n",
        "  pbar = tqdm(train_loader)\n",
        "\n",
        "  train_loss = 0\n",
        "  correct = 0\n",
        "  processed = 0\n",
        "\n",
        "  for batch_idx, (data, target) in enumerate(pbar):\n",
        "    data, target = data.to(device), target.to(device)\n",
        "    optimizer.zero_grad()\n",
        "\n",
        "    # Predict\n",
        "    pred = model(data)\n",
        "\n",
        "    # Calculate loss\n",
        "    loss = criterion(pred, target)\n",
        "    train_loss+=loss.item()\n",
        "\n",
        "    # Backpropagation\n",
        "    loss.backward()\n",
        "    optimizer.step()\n",
        "\n",
        "    correct += GetCorrectPredCount(pred, target)\n",
        "    processed += len(data)\n",
        "\n",
        "    pbar.set_description(desc= f'Train: Loss={loss.item():0.4f} Batch_id={batch_idx} Accuracy={100*correct/processed:0.2f}')\n",
        "\n",
        "  train_acc.append(100*correct/processed)\n",
        "  train_losses.append(train_loss/len(train_loader))\n",
        "\n",
        "def test(model, device, test_loader, criterion):\n",
        "    model.eval()\n",
        "\n",
        "    test_loss = 0\n",
        "    correct = 0\n",
        "\n",
        "    with torch.no_grad():\n",
        "        for batch_idx, (data, target) in enumerate(test_loader):\n",
        "            data, target = data.to(device), target.to(device)\n",
        "\n",
        "            output = model(data)\n",
        "            test_loss += criterion(output, target).item()  # sum up batch loss # changed: reduction='sum'\n",
        "\n",
        "            correct += GetCorrectPredCount(output, target)\n",
        "\n",
        "\n",
        "    test_loss /= len(test_loader.dataset)\n",
        "    test_acc.append(100. * correct / len(test_loader.dataset))\n",
        "    test_losses.append(test_loss)\n",
        "\n",
        "    print('Test set: Average loss: {:.4f}, Accuracy: {}/{} ({:.2f}%)\\n'.format(\n",
        "        test_loss, correct, len(test_loader.dataset),\n",
        "        100. * correct / len(test_loader.dataset)))\n"
      ],
      "metadata": {
        "id": "IzeznPDRdo3Y"
      },
      "execution_count": 14,
      "outputs": []
    },
    {
      "cell_type": "code",
      "metadata": {
        "id": "MMWbLWO6FuHb",
        "colab": {
          "base_uri": "https://localhost:8080/"
        },
        "outputId": "278e7551-6fff-4cf5-aded-1b824d6f96d7"
      },
      "source": [
        "\n",
        "device = torch.device(\"cuda\" if torch.cuda.is_available() else \"cpu\") # changed: added this line\n",
        "model = NetCustomArch().to(device)\n",
        "\n",
        "# optimizer = optim.SGD(model.parameters(), lr=0.01, momentum=0.9) # changed: LR\n",
        "# optimizer = optim.SGD(model.parameters(), lr=0.01, momentum=0.9) # changed: LR to 0.01\n",
        "# optimizer = optim.Adam(model.parameters(), lr=0.001)\n",
        "optimizer = optim.Adam(model.parameters(), lr=0.001, weight_decay=1e-4)\n",
        "\n",
        "\n",
        "# optimizer = optim.Adam(\n",
        "#     model.parameters(),\n",
        "#     lr=0.001,\n",
        "#     weight_decay=1e-4,       # L2 regularization (helps avoid overfitting)\n",
        "#     betas=(0.9, 0.999),      # can be tuned (0.9, 0.98 sometimes better for transformers/seq models)\n",
        "#     eps=1e-8                 # numerical stability\n",
        "# )\n",
        "\n",
        "\n",
        "scheduler = optim.lr_scheduler.StepLR(optimizer, step_size=15, gamma=0.1) # changed: removed verbose=True\n",
        "\n",
        "# scheduler = optim.lr_scheduler.ReduceLROnPlateau(optimizer, mode='max', patience=3, factor=0.5)\n",
        "\n",
        "# for epoch in range(1, 19): # changed # epochs\n",
        "#     train(model, device, train_loader, optimizer, epoch)\n",
        "#     test(model, device, test_loader)\n",
        "\n",
        "\n",
        "criterion = nn.CrossEntropyLoss() # changed: can add reduction='sum'\n",
        "num_epochs = 20\n",
        "\n",
        "for epoch in range(1, num_epochs+1):\n",
        "  print(f'Epoch {epoch}')\n",
        "  train(model, device, train_loader, optimizer, criterion)\n",
        "  test(model, device, test_loader, criterion) # changed: train to test_loader\n",
        "  scheduler.step()\n"
      ],
      "execution_count": 15,
      "outputs": [
        {
          "output_type": "stream",
          "name": "stdout",
          "text": [
            "Epoch 1\n"
          ]
        },
        {
          "output_type": "stream",
          "name": "stderr",
          "text": [
            "Train: Loss=0.4579 Batch_id=937 Accuracy=76.20: 100%|██████████| 938/938 [00:20<00:00, 45.02it/s]\n"
          ]
        },
        {
          "output_type": "stream",
          "name": "stdout",
          "text": [
            "Test set: Average loss: 0.0011, Accuracy: 9848/10000 (98.48%)\n",
            "\n",
            "Epoch 2\n"
          ]
        },
        {
          "output_type": "stream",
          "name": "stderr",
          "text": [
            "Train: Loss=0.4037 Batch_id=937 Accuracy=85.16: 100%|██████████| 938/938 [00:20<00:00, 46.55it/s]\n"
          ]
        },
        {
          "output_type": "stream",
          "name": "stdout",
          "text": [
            "Test set: Average loss: 0.0007, Accuracy: 9877/10000 (98.77%)\n",
            "\n",
            "Epoch 3\n"
          ]
        },
        {
          "output_type": "stream",
          "name": "stderr",
          "text": [
            "Train: Loss=0.3578 Batch_id=937 Accuracy=86.60: 100%|██████████| 938/938 [00:20<00:00, 46.64it/s]\n"
          ]
        },
        {
          "output_type": "stream",
          "name": "stdout",
          "text": [
            "Test set: Average loss: 0.0009, Accuracy: 9828/10000 (98.28%)\n",
            "\n",
            "Epoch 4\n"
          ]
        },
        {
          "output_type": "stream",
          "name": "stderr",
          "text": [
            "Train: Loss=0.3325 Batch_id=937 Accuracy=86.84: 100%|██████████| 938/938 [00:20<00:00, 44.80it/s]\n"
          ]
        },
        {
          "output_type": "stream",
          "name": "stdout",
          "text": [
            "Test set: Average loss: 0.0006, Accuracy: 9910/10000 (99.10%)\n",
            "\n",
            "Epoch 5\n"
          ]
        },
        {
          "output_type": "stream",
          "name": "stderr",
          "text": [
            "Train: Loss=0.3930 Batch_id=937 Accuracy=87.18: 100%|██████████| 938/938 [00:20<00:00, 45.30it/s]\n"
          ]
        },
        {
          "output_type": "stream",
          "name": "stdout",
          "text": [
            "Test set: Average loss: 0.0004, Accuracy: 9926/10000 (99.26%)\n",
            "\n",
            "Epoch 6\n"
          ]
        },
        {
          "output_type": "stream",
          "name": "stderr",
          "text": [
            "Train: Loss=0.2923 Batch_id=937 Accuracy=87.49: 100%|██████████| 938/938 [00:21<00:00, 44.16it/s]\n"
          ]
        },
        {
          "output_type": "stream",
          "name": "stdout",
          "text": [
            "Test set: Average loss: 0.0007, Accuracy: 9873/10000 (98.73%)\n",
            "\n",
            "Epoch 7\n"
          ]
        },
        {
          "output_type": "stream",
          "name": "stderr",
          "text": [
            "Train: Loss=0.2983 Batch_id=937 Accuracy=87.84: 100%|██████████| 938/938 [00:20<00:00, 45.03it/s]\n"
          ]
        },
        {
          "output_type": "stream",
          "name": "stdout",
          "text": [
            "Test set: Average loss: 0.0005, Accuracy: 9917/10000 (99.17%)\n",
            "\n",
            "Epoch 8\n"
          ]
        },
        {
          "output_type": "stream",
          "name": "stderr",
          "text": [
            "Train: Loss=0.3139 Batch_id=937 Accuracy=88.06: 100%|██████████| 938/938 [00:20<00:00, 44.75it/s]\n"
          ]
        },
        {
          "output_type": "stream",
          "name": "stdout",
          "text": [
            "Test set: Average loss: 0.0007, Accuracy: 9898/10000 (98.98%)\n",
            "\n",
            "Epoch 9\n"
          ]
        },
        {
          "output_type": "stream",
          "name": "stderr",
          "text": [
            "Train: Loss=0.3317 Batch_id=937 Accuracy=88.50: 100%|██████████| 938/938 [00:20<00:00, 46.02it/s]\n"
          ]
        },
        {
          "output_type": "stream",
          "name": "stdout",
          "text": [
            "Test set: Average loss: 0.0009, Accuracy: 9844/10000 (98.44%)\n",
            "\n",
            "Epoch 10\n"
          ]
        },
        {
          "output_type": "stream",
          "name": "stderr",
          "text": [
            "Train: Loss=0.2829 Batch_id=937 Accuracy=88.63: 100%|██████████| 938/938 [00:19<00:00, 47.41it/s]\n"
          ]
        },
        {
          "output_type": "stream",
          "name": "stdout",
          "text": [
            "Test set: Average loss: 0.0009, Accuracy: 9850/10000 (98.50%)\n",
            "\n",
            "Epoch 11\n"
          ]
        },
        {
          "output_type": "stream",
          "name": "stderr",
          "text": [
            "Train: Loss=0.2079 Batch_id=937 Accuracy=89.06: 100%|██████████| 938/938 [00:20<00:00, 45.97it/s]\n"
          ]
        },
        {
          "output_type": "stream",
          "name": "stdout",
          "text": [
            "Test set: Average loss: 0.0005, Accuracy: 9914/10000 (99.14%)\n",
            "\n",
            "Epoch 12\n"
          ]
        },
        {
          "output_type": "stream",
          "name": "stderr",
          "text": [
            "Train: Loss=0.2633 Batch_id=937 Accuracy=89.11: 100%|██████████| 938/938 [00:20<00:00, 45.02it/s]\n"
          ]
        },
        {
          "output_type": "stream",
          "name": "stdout",
          "text": [
            "Test set: Average loss: 0.0005, Accuracy: 9925/10000 (99.25%)\n",
            "\n",
            "Epoch 13\n"
          ]
        },
        {
          "output_type": "stream",
          "name": "stderr",
          "text": [
            "Train: Loss=0.2786 Batch_id=937 Accuracy=89.29: 100%|██████████| 938/938 [00:20<00:00, 45.75it/s]\n"
          ]
        },
        {
          "output_type": "stream",
          "name": "stdout",
          "text": [
            "Test set: Average loss: 0.0005, Accuracy: 9921/10000 (99.21%)\n",
            "\n",
            "Epoch 14\n"
          ]
        },
        {
          "output_type": "stream",
          "name": "stderr",
          "text": [
            "Train: Loss=0.2009 Batch_id=937 Accuracy=89.82: 100%|██████████| 938/938 [00:20<00:00, 44.91it/s]\n"
          ]
        },
        {
          "output_type": "stream",
          "name": "stdout",
          "text": [
            "Test set: Average loss: 0.0005, Accuracy: 9933/10000 (99.33%)\n",
            "\n",
            "Epoch 15\n"
          ]
        },
        {
          "output_type": "stream",
          "name": "stderr",
          "text": [
            "Train: Loss=0.1393 Batch_id=937 Accuracy=89.96: 100%|██████████| 938/938 [00:20<00:00, 45.33it/s]\n"
          ]
        },
        {
          "output_type": "stream",
          "name": "stdout",
          "text": [
            "Test set: Average loss: 0.0005, Accuracy: 9922/10000 (99.22%)\n",
            "\n",
            "Epoch 16\n"
          ]
        },
        {
          "output_type": "stream",
          "name": "stderr",
          "text": [
            "Train: Loss=0.2770 Batch_id=937 Accuracy=90.29: 100%|██████████| 938/938 [00:20<00:00, 46.04it/s]\n"
          ]
        },
        {
          "output_type": "stream",
          "name": "stdout",
          "text": [
            "Test set: Average loss: 0.0005, Accuracy: 9937/10000 (99.37%)\n",
            "\n",
            "Epoch 17\n"
          ]
        },
        {
          "output_type": "stream",
          "name": "stderr",
          "text": [
            "Train: Loss=0.1775 Batch_id=937 Accuracy=90.44: 100%|██████████| 938/938 [00:20<00:00, 45.57it/s]\n"
          ]
        },
        {
          "output_type": "stream",
          "name": "stdout",
          "text": [
            "Test set: Average loss: 0.0005, Accuracy: 9936/10000 (99.36%)\n",
            "\n",
            "Epoch 18\n"
          ]
        },
        {
          "output_type": "stream",
          "name": "stderr",
          "text": [
            "Train: Loss=0.2266 Batch_id=937 Accuracy=90.50: 100%|██████████| 938/938 [00:20<00:00, 44.98it/s]\n"
          ]
        },
        {
          "output_type": "stream",
          "name": "stdout",
          "text": [
            "Test set: Average loss: 0.0004, Accuracy: 9940/10000 (99.40%)\n",
            "\n",
            "Epoch 19\n"
          ]
        },
        {
          "output_type": "stream",
          "name": "stderr",
          "text": [
            "Train: Loss=0.3962 Batch_id=937 Accuracy=90.68: 100%|██████████| 938/938 [00:20<00:00, 45.41it/s]\n"
          ]
        },
        {
          "output_type": "stream",
          "name": "stdout",
          "text": [
            "Test set: Average loss: 0.0004, Accuracy: 9939/10000 (99.39%)\n",
            "\n",
            "Epoch 20\n"
          ]
        },
        {
          "output_type": "stream",
          "name": "stderr",
          "text": [
            "Train: Loss=0.2127 Batch_id=937 Accuracy=90.84: 100%|██████████| 938/938 [00:20<00:00, 45.02it/s]\n"
          ]
        },
        {
          "output_type": "stream",
          "name": "stdout",
          "text": [
            "Test set: Average loss: 0.0004, Accuracy: 9941/10000 (99.41%)\n",
            "\n"
          ]
        }
      ]
    },
    {
      "cell_type": "code",
      "metadata": {
        "id": "So5uk4EkHW6R"
      },
      "source": [
        "# S5 Stuff:"
      ],
      "execution_count": 16,
      "outputs": []
    },
    {
      "cell_type": "code",
      "metadata": {
        "id": "8fDefDhaFlwH"
      },
      "source": [
        "# from tqdm import tqdm\n",
        "\n",
        "\n",
        "# def GetCorrectPredCount(pPrediction, pLabels):\n",
        "#   return pPrediction.argmax(dim=1).eq(pLabels).sum().item()\n",
        "\n",
        "\n",
        "# def train(model, device, train_loader, optimizer, criterion):\n",
        "#     model.train()\n",
        "#     pbar = tqdm(train_loader)\n",
        "#     correct = 0\n",
        "#     processed = 0\n",
        "#     train_loss = 0\n",
        "#     for batch_idx, (data, target) in enumerate(pbar):\n",
        "#         data, target = data.to(device), target.to(device)\n",
        "#         optimizer.zero_grad()\n",
        "#         output = model(data)\n",
        "#         loss = F.nll_loss(output, target)\n",
        "#         loss.backward()\n",
        "#         optimizer.step()\n",
        "\n",
        "#     # Predict\n",
        "#     pred = model(data)\n",
        "\n",
        "#     # Calculate loss\n",
        "#     loss = criterion(pred, target)\n",
        "#     train_loss+=loss.item()\n",
        "\n",
        "#     # Backpropagation\n",
        "#     loss.backward()\n",
        "#     optimizer.step()\n",
        "\n",
        "#     correct += GetCorrectPredCount(pred, target)\n",
        "#     processed += len(data)\n",
        "\n",
        "#     pbar.set_description(\n",
        "#             desc=f'Train: Loss={loss.item():.4f} Batch_id={batch_idx} Accuracy={100*correct/processed:.2f}'\n",
        "#         )\n",
        "\n",
        "#     return train_loss / len(train_loader)\n",
        "\n",
        "\n",
        "# def test(model, device, test_loader):\n",
        "#     model.eval()\n",
        "#     test_loss = 0\n",
        "#     correct = 0\n",
        "#     with torch.no_grad():\n",
        "#         for data, target in test_loader:\n",
        "#             data, target = data.to(device), target.to(device)\n",
        "#             output = model(data)\n",
        "#             test_loss += F.nll_loss(output, target, reduction='sum').item()  # sum up batch loss\n",
        "#             pred = output.argmax(dim=1, keepdim=True)  # get the index of the max log-probability\n",
        "#             correct += pred.eq(target.view_as(pred)).sum().item()\n",
        "\n",
        "#     test_loss /= len(test_loader.dataset)\n",
        "\n",
        "#     print('\\nTest set: Average loss: {:.4f}, Accuracy: {}/{} ({:.0f}%)\\n'.format(\n",
        "#         test_loss, correct, len(test_loader.dataset),\n",
        "#         100. * correct / len(test_loader.dataset)))"
      ],
      "execution_count": 17,
      "outputs": []
    },
    {
      "cell_type": "code",
      "source": [
        "class Net(nn.Module): # Architecture: S5 + Experiments\n",
        "    def __init__(self):\n",
        "        super(Net, self).__init__()\n",
        "\n",
        "\n",
        "        self.pool1 = nn.MaxPool2d(2, 2)\n",
        "        self.pool2 = nn.MaxPool2d(2, 3)\n",
        "        self.pool3 = nn.MaxPool2d(2, 3)\n",
        "\n",
        "        # self.conv1 = nn.Conv2d(1, 2, 3, padding=1)\n",
        "        # self.conv1 = nn.Conv2d(1, 4, 3, padding=1)\n",
        "        # self.conv2 = nn.Conv2d(4, 8, 3, padding=1)\n",
        "        # self.conv1 = nn.Conv2d(1, 16, 3, padding=1)\n",
        "\n",
        "\n",
        "        self.conv1 = nn.Conv2d(1, 16, 3, padding=1)\n",
        "        self.conv2 = nn.Conv2d(16, 32, 3, padding=1)\n",
        "        # self.conv4 = nn.Conv2d(64, 128, 3, padding=1)\n",
        "\n",
        "        self.fc1 = nn.Linear(512, 30)\n",
        "        self.fc2 = nn.Linear(30, 10)\n",
        "\n",
        "    def forward(self, x):\n",
        "\n",
        "        # Start: 1 x 28 x 28\n",
        "\n",
        "        x = F.relu(self.conv1(x)) #   16 x 28 x 28\n",
        "        x = self.pool1(x)  #   16 x 14 x 14\n",
        "        x = F.relu(self.conv2(x)) #   32 x 14 x 14\n",
        "        x = self.pool2(x)  #   32 x 4 x 4\n",
        "\n",
        "        # x = F.relu(self.conv3(x)) #   64 x 3 x 3\n",
        "        # x = self.pool3(x)  #   64 x 1 x 1\n",
        "        # x = F.relu(self.conv4(x)) #  64 x 1 x 1\n",
        "        # x = self.pool2(x)         #  16 x 7  x 7\n",
        "        # x = F.relu(self.conv5(x)) #  32 x 7  x 7\n",
        "        # x = F.relu(self.conv6(x)) #  64 x 7  x 7\n",
        "        # x = F.relu(self.conv7(x)) # 128 x 7  x 7\n",
        "\n",
        "        x = x.view(-1, 512)\n",
        "        x = self.fc1(x)\n",
        "        x = F.relu(x)\n",
        "        x = self.fc2(x)\n",
        "        x = F.log_softmax(x, dim=1)\n",
        "\n",
        "        return x\n"
      ],
      "metadata": {
        "id": "cuahTvkMgm-u"
      },
      "execution_count": 18,
      "outputs": []
    },
    {
      "cell_type": "code",
      "source": [
        "class Net(nn.Module): # Architecture: S5 + Experiments\n",
        "    def __init__(self):\n",
        "        super(Net, self).__init__()\n",
        "\n",
        "\n",
        "        self.pool1 = nn.MaxPool2d(2, 2)\n",
        "        self.pool2 = nn.MaxPool2d(2, 3)\n",
        "        self.pool3 = nn.MaxPool2d(2, 3)\n",
        "\n",
        "        # self.conv1 = nn.Conv2d(1, 2, 3, padding=1)\n",
        "        # self.conv1 = nn.Conv2d(1, 4, 3, padding=1)\n",
        "        # self.conv2 = nn.Conv2d(4, 8, 3, padding=1)\n",
        "        # self.conv1 = nn.Conv2d(1, 16, 3, padding=1)\n",
        "\n",
        "\n",
        "        self.conv1 = nn.Conv2d(1, 16, 3, padding=1)\n",
        "        self.conv2 = nn.Conv2d(16, 32, 3, padding=1)\n",
        "        # self.conv4 = nn.Conv2d(64, 128, 3, padding=1)\n",
        "\n",
        "        self.fc1 = nn.Linear(512, 30)\n",
        "        self.fc2 = nn.Linear(30, 10)\n",
        "\n",
        "    def forward(self, x):\n",
        "\n",
        "        # Start: 1 x 28 x 28\n",
        "\n",
        "        x = F.relu(self.conv1(x)) #   16 x 28 x 28\n",
        "        x = self.pool1(x)  #   16 x 14 x 14\n",
        "        x = F.relu(self.conv2(x)) #   32 x 14 x 14\n",
        "        x = self.pool2(x)  #   32 x 4 x 4\n",
        "\n",
        "        # x = F.relu(self.conv3(x)) #   64 x 3 x 3\n",
        "        # x = self.pool3(x)  #   64 x 1 x 1\n",
        "        # x = F.relu(self.conv4(x)) #  64 x 1 x 1\n",
        "        # x = self.pool2(x)         #  16 x 7  x 7\n",
        "        # x = F.relu(self.conv5(x)) #  32 x 7  x 7\n",
        "        # x = F.relu(self.conv6(x)) #  64 x 7  x 7\n",
        "        # x = F.relu(self.conv7(x)) # 128 x 7  x 7\n",
        "\n",
        "        x = x.view(-1, 512)\n",
        "        x = self.fc1(x)\n",
        "        x = F.relu(x)\n",
        "        x = self.fc2(x)\n",
        "        x = F.log_softmax(x, dim=1)\n",
        "\n",
        "        return x\n"
      ],
      "metadata": {
        "id": "UYNWgaw0rERp"
      },
      "execution_count": 19,
      "outputs": []
    }
  ]
}